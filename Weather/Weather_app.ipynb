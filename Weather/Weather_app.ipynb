{
 "cells": [
  {
   "cell_type": "code",
   "execution_count": 1,
   "id": "0e4adccf-5faa-4531-b4c0-bbe1fa4d0a50",
   "metadata": {},
   "outputs": [
    {
     "name": "stdout",
     "output_type": "stream",
     "text": [
      "Defaulting to user installation because normal site-packages is not writeable\n",
      "Requirement already satisfied: requests in /home/fidel/.local/lib/python3.10/site-packages (2.32.3)\n",
      "Requirement already satisfied: charset-normalizer<4,>=2 in /home/fidel/.local/lib/python3.10/site-packages (from requests) (3.4.1)\n",
      "Requirement already satisfied: idna<4,>=2.5 in /usr/lib/python3/dist-packages (from requests) (3.3)\n",
      "Requirement already satisfied: urllib3<3,>=1.21.1 in /usr/lib/python3/dist-packages (from requests) (1.26.5)\n",
      "Requirement already satisfied: certifi>=2017.4.17 in /usr/lib/python3/dist-packages (from requests) (2020.6.20)\n"
     ]
    }
   ],
   "source": [
    "!pip install requests"
   ]
  },
  {
   "cell_type": "code",
   "execution_count": null,
   "id": "b803074c-a991-4d5a-b9ba-e4d34b612e8e",
   "metadata": {},
   "outputs": [],
   "source": [
    "import tkinter as tk\n",
    "from tkinter import messagebox\n",
    "import requests\n",
    "\n",
    "# Replace 'your_api_key_here' with your actual OpenWeatherMap API key\n",
    "API_KEY = \"5a34b91511f8fefbc63870c5ef273906\"\n",
    "BASE_URL = \"http://api.openweathermap.org/data/2.5/weather\"\n",
    "\n",
    "def get_weather(city):\n",
    "    \"\"\"\n",
    "    Fetches the weather data for a given city from OpenWeatherMap.\n",
    "\n",
    "    Parameters:\n",
    "    - city (str): The name of the city for which to fetch the weather.\n",
    "\n",
    "    Returns:\n",
    "    - dict: A dictionary containing weather information, or None if an error occurs.\n",
    "    \"\"\"\n",
    "    try:\n",
    "        # Construct the URL for the API request\n",
    "        url = f\"{BASE_URL}?q={city}&appid={API_KEY}&units=metric\"\n",
    "        response = requests.get(url)\n",
    "        data = response.json()\n",
    "\n",
    "        # Check if the response contains valid weather data\n",
    "        if data['cod'] == 200:\n",
    "            return data\n",
    "        else:\n",
    "            messagebox.showerror(\"Error\", f\"City '{city}' not found.\")\n",
    "            return None\n",
    "    except Exception as e:\n",
    "        messagebox.showerror(\"Error\", \"Failed to fetch weather data. Please try again.\")\n",
    "        return None\n",
    "\n",
    "def show_weather():\n",
    "    \"\"\"\n",
    "    Retrieves weather data for the city entered by the user and updates the GUI.\n",
    "    \"\"\"\n",
    "    city = city_entry.get()\n",
    "    weather_data = get_weather(city)\n",
    "\n",
    "    if weather_data:\n",
    "        city_name = weather_data['name']\n",
    "        temperature = weather_data['main']['temp']\n",
    "        description = weather_data['weather'][0]['description']\n",
    "        humidity = weather_data['main']['humidity']\n",
    "        wind_speed = weather_data['wind']['speed']\n",
    "\n",
    "        weather_info = f\"City: {city_name}\\nTemperature: {temperature}°C\\n\" \\\n",
    "                       f\"Weather: {description.capitalize()}\\nHumidity: {humidity}%\\n\" \\\n",
    "                       f\"Wind Speed: {wind_speed} m/s\"\n",
    "\n",
    "        weather_label.config(text=weather_info)\n",
    "\n",
    "def create_gui():\n",
    "    \"\"\"\n",
    "    Creates the main GUI window for the weather app.\n",
    "    \"\"\"\n",
    "    global city_entry, weather_label\n",
    "\n",
    "    window = tk.Tk()\n",
    "    window.title(\"Weather App\")\n",
    "    window.geometry(\"300x250\")\n",
    "\n",
    "    # Create and place the widgets\n",
    "    city_entry = tk.Entry(window, font=(\"Arial\", 14))\n",
    "    city_entry.pack(pady=10)\n",
    "\n",
    "    get_weather_button = tk.Button(window, text=\"Get Weather\", command=show_weather)\n",
    "    get_weather_button.pack(pady=5)\n",
    "\n",
    "    weather_label = tk.Label(window, font=(\"Arial\", 12), justify=\"left\")\n",
    "    weather_label.pack(pady=20)\n",
    "\n",
    "    window.mainloop()\n",
    "\n",
    "if __name__ == \"__main__\":\n",
    "    create_gui()\n"
   ]
  },
  {
   "cell_type": "code",
   "execution_count": null,
   "id": "c8a7af0a-3f88-41dc-bce2-6ad5265fee9b",
   "metadata": {},
   "outputs": [],
   "source": []
  },
  {
   "cell_type": "code",
   "execution_count": null,
   "id": "e274739d-c9a4-4ca5-86c3-cd92fd539f5a",
   "metadata": {},
   "outputs": [],
   "source": []
  }
 ],
 "metadata": {
  "kernelspec": {
   "display_name": "Python 3 (ipykernel)",
   "language": "python",
   "name": "python3"
  },
  "language_info": {
   "codemirror_mode": {
    "name": "ipython",
    "version": 3
   },
   "file_extension": ".py",
   "mimetype": "text/x-python",
   "name": "python",
   "nbconvert_exporter": "python",
   "pygments_lexer": "ipython3",
   "version": "3.10.12"
  }
 },
 "nbformat": 4,
 "nbformat_minor": 5
}
